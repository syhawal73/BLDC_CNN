{
 "cells": [
  {
   "cell_type": "code",
   "execution_count": 5,
   "id": "c3e639d5-90d2-469f-bd59-ea4de5ef0136",
   "metadata": {},
   "outputs": [
    {
     "name": "stderr",
     "output_type": "stream",
     "text": [
      "CLAHE Preprocessing: 100%|██████████| 12556/12556 [03:18<00:00, 63.21it/s]\n"
     ]
    }
   ],
   "source": [
    "import os\n",
    "import cv2\n",
    "from tqdm import tqdm\n",
    "from concurrent.futures import ThreadPoolExecutor\n",
    "\n",
    "def apply_clahe_to_image(src_path, dst_path,\n",
    "                         clip_limit=2.0,\n",
    "                         tile_grid_size=(8, 8)):\n",
    "    \"\"\"\n",
    "    Read an image, apply CLAHE on the L channel in LAB space,\n",
    "    and write the processed image to dst_path.\n",
    "    \"\"\"\n",
    "    img = cv2.imread(src_path)  # BGR format :contentReference[oaicite:7]{index=7}\n",
    "    lab = cv2.cvtColor(img, cv2.COLOR_BGR2Lab)\n",
    "    l, a, b = cv2.split(lab)\n",
    "    clahe = cv2.createCLAHE(\n",
    "        clipLimit=clip_limit,\n",
    "        tileGridSize=tile_grid_size\n",
    "    )  # create CLAHE object :contentReference[oaicite:8]{index=8}\n",
    "    cl = clahe.apply(l)\n",
    "    limg = cv2.merge((cl, a, b))\n",
    "    img_out = cv2.cvtColor(limg, cv2.COLOR_Lab2BGR)\n",
    "    os.makedirs(os.path.dirname(dst_path), exist_ok=True)\n",
    "    cv2.imwrite(dst_path, img_out)  # save enhanced image :contentReference[oaicite:9]{index=9}\n",
    "\n",
    "def process_dataset(input_dir, output_dir, num_workers=1):\n",
    "    \"\"\"\n",
    "    Walk through input_dir, construct matching output paths,\n",
    "    and apply CLAHE to each image in parallel.\n",
    "    \"\"\"\n",
    "    tasks = []\n",
    "    for root, _, files in os.walk(input_dir):  # recursive directory walk\n",
    "        for fname in files:\n",
    "            if fname.lower().endswith(('.png', '.jpg', '.jpeg')):\n",
    "                rel = os.path.relpath(root, input_dir)\n",
    "                src = os.path.join(root, fname)\n",
    "                dst_folder = os.path.join(output_dir, rel)\n",
    "                dst = os.path.join(dst_folder, fname)\n",
    "                tasks.append((src, dst))\n",
    "\n",
    "    # Parallel processing with ThreadPoolExecutor :contentReference[oaicite:10]{index=10}\n",
    "    with ThreadPoolExecutor(max_workers=num_workers) as executor:\n",
    "        list(tqdm(\n",
    "            executor.map(lambda p: apply_clahe_to_image(*p), tasks),\n",
    "            total=len(tasks),\n",
    "            desc=\"CLAHE Preprocessing\"\n",
    "        ))  # progress bar :contentReference[oaicite:11]{index=11}\n",
    "\n",
    "if __name__ == \"__main__\":\n",
    "    # Adjust paths to your environment\n",
    "    input_dir  = r\"G:\\Mega_Project\\Dataset\\5_Classes_TVT\\train\"\n",
    "    output_dir = r\"D:\\clahe_train\"\n",
    "    process_dataset(input_dir, output_dir, num_workers=1)\n"
   ]
  },
  {
   "cell_type": "code",
   "execution_count": null,
   "id": "419e8a6c-93c8-4a00-a84c-1dbaeed92e62",
   "metadata": {},
   "outputs": [],
   "source": []
  }
 ],
 "metadata": {
  "kernelspec": {
   "display_name": "Python 3 (ipykernel)",
   "language": "python",
   "name": "python3"
  },
  "language_info": {
   "codemirror_mode": {
    "name": "ipython",
    "version": 3
   },
   "file_extension": ".py",
   "mimetype": "text/x-python",
   "name": "python",
   "nbconvert_exporter": "python",
   "pygments_lexer": "ipython3",
   "version": "3.12.7"
  }
 },
 "nbformat": 4,
 "nbformat_minor": 5
}
