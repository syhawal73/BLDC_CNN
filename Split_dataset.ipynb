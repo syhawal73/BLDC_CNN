{
 "cells": [
  {
   "cell_type": "code",
   "execution_count": null,
   "id": "e72e6da5-e52c-4b20-925b-29e3dbad2ec6",
   "metadata": {},
   "outputs": [],
   "source": []
  }
 ],
 "metadata": {
  "kernelspec": {
   "display_name": "",
   "name": ""
  },
  "language_info": {
   "name": ""
  }
 },
 "nbformat": 4,
 "nbformat_minor": 5
}
